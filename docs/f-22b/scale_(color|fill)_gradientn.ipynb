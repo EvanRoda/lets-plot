{
 "cells": [
  {
   "cell_type": "code",
   "execution_count": null,
   "id": "b77e10ec",
   "metadata": {
    "pycharm": {
     "name": "#%%\n"
    }
   },
   "outputs": [],
   "source": [
    "from lets_plot import *\n",
    "LetsPlot.setup_html()"
   ]
  },
  {
   "cell_type": "code",
   "execution_count": null,
   "id": "7cc4f446",
   "metadata": {
    "pycharm": {
     "name": "#%%\n"
    }
   },
   "outputs": [],
   "source": [
    "data = {'x': list(range(-32, 32))}"
   ]
  },
  {
   "cell_type": "code",
   "execution_count": null,
   "id": "e08c121c",
   "metadata": {
    "pycharm": {
     "name": "#%%\n"
    }
   },
   "outputs": [],
   "source": [
    "ggplot(data) + geom_tile(aes(x='x', fill='x')) + \\\n",
    "    scale_fill_gradientn(colors=['#2b83ba', 'green', '#d7191c'])"
   ]
  },
  {
   "cell_type": "code",
   "execution_count": null,
   "id": "d703b5c0",
   "metadata": {
    "pycharm": {
     "name": "#%%\n"
    }
   },
   "outputs": [],
   "source": [
    "ggplot(data) + geom_tile(aes(x='x', color='x'), fill='white', size=2) + \\\n",
    "    scale_color_gradientn(colors=['#2b83ba', 'green', '#d7191c'])"
   ]
  },
  {
   "cell_type": "code",
   "execution_count": null,
   "id": "c981022d",
   "metadata": {
    "pycharm": {
     "name": "#%%\n"
    }
   },
   "outputs": [],
   "source": [
    "ggplot(data) + geom_tile(aes(x='x', fill='x')) + \\\n",
    "    scale_fill_gradientn(colors=['red', 'orange', 'yellow', 'green', 'light_blue', 'blue', 'magenta'])"
   ]
  },
  {
   "cell_type": "code",
   "execution_count": null,
   "id": "2e3bae0e",
   "metadata": {
    "pycharm": {
     "name": "#%%\n"
    }
   },
   "outputs": [],
   "source": [
    "# Asymmetric gradient\n",
    "ggplot(data) + geom_tile(aes(x='x', fill='x')) + \\\n",
    "    scale_fill_gradientn(colors=[*['#2b83ba']*4, 'green', '#d7191c'])"
   ]
  }
 ],
 "metadata": {
  "kernelspec": {
   "display_name": "Python 3 (ipykernel)",
   "language": "python",
   "name": "python3"
  },
  "language_info": {
   "codemirror_mode": {
    "name": "ipython",
    "version": 3
   },
   "file_extension": ".py",
   "mimetype": "text/x-python",
   "name": "python",
   "nbconvert_exporter": "python",
   "pygments_lexer": "ipython3",
   "version": "3.8.5"
  }
 },
 "nbformat": 4,
 "nbformat_minor": 5
}