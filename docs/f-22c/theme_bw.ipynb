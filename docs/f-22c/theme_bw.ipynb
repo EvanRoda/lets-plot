{
 "cells": [
  {
   "cell_type": "code",
   "execution_count": 1,
   "id": "driven-lafayette",
   "metadata": {},
   "outputs": [
    {
     "data": {
      "text/html": [
       "\n",
       "            <div id=\"EFtxk6\"></div>\n",
       "            <script type=\"text/javascript\" data-lets-plot-script=\"library\">\n",
       "                if(!window.letsPlotCallQueue) {\n",
       "                    window.letsPlotCallQueue = [];\n",
       "                }; \n",
       "                window.letsPlotCall = function(f) {\n",
       "                    window.letsPlotCallQueue.push(f);\n",
       "                };\n",
       "                (function() {\n",
       "                    var script = document.createElement(\"script\");\n",
       "                    script.type = \"text/javascript\";\n",
       "                    script.src = \"https://cdn.jsdelivr.net/gh/JetBrains/lets-plot@v2.5.0rc1/js-package/distr/lets-plot.min.js\";\n",
       "                    script.onload = function() {\n",
       "                        window.letsPlotCall = function(f) {f();};\n",
       "                        window.letsPlotCallQueue.forEach(function(f) {f();});\n",
       "                        window.letsPlotCallQueue = [];\n",
       "                        \n",
       "                    };\n",
       "                    script.onerror = function(event) {\n",
       "                        window.letsPlotCall = function(f) {};    // noop\n",
       "                        window.letsPlotCallQueue = [];\n",
       "                        var div = document.createElement(\"div\");\n",
       "                        div.style.color = 'darkred';\n",
       "                        div.textContent = 'Error loading Lets-Plot JS';\n",
       "                        document.getElementById(\"EFtxk6\").appendChild(div);\n",
       "                    };\n",
       "                    var e = document.getElementById(\"EFtxk6\");\n",
       "                    e.appendChild(script);\n",
       "                })()\n",
       "            </script>\n",
       "            "
      ]
     },
     "metadata": {},
     "output_type": "display_data"
    }
   ],
   "source": [
    "import numpy as np\n",
    "from lets_plot import *\n",
    "LetsPlot.setup_html()\n"
   ]
  },
  {
   "cell_type": "code",
   "execution_count": 2,
   "id": "novel-pricing",
   "metadata": {},
   "outputs": [
    {
     "data": {
      "text/html": [
       "   <div id=\"0Fx9PW\"></div>\n",
       "   <script type=\"text/javascript\" data-lets-plot-script=\"plot\">\n",
       "       (function() {\n",
       "           var plotSpec={\n",
       "\"data\":{\n",
       "},\n",
       "\"mapping\":{\n",
       "\"x\":\"x\"\n",
       "},\n",
       "\"data_meta\":{\n",
       "},\n",
       "\"kind\":\"plot\",\n",
       "\"scales\":[],\n",
       "\"layers\":[{\n",
       "\"geom\":\"histogram\",\n",
       "\"mapping\":{\n",
       "},\n",
       "\"data_meta\":{\n",
       "},\n",
       "\"data\":{\n",
       "\"..count..\":[1.0,0.0,0.0,0.0,2.0,1.0,2.0,1.0,4.0,2.0,4.0,1.0,4.0,6.0,10.0,8.0,6.0,4.0,7.0,12.0,3.0,2.0,5.0,5.0,2.0,0.0,3.0,4.0,0.0,1.0],\n",
       "\"x\":[-2.6460803523448253,-2.4900564287203824,-2.3340325050959394,-2.1780085814714965,-2.021984657847054,-1.8659607342226108,-1.709936810598168,-1.553912886973725,-1.3978889633492821,-1.2418650397248392,-1.0858411161003962,-0.9298171924759535,-0.7737932688515106,-0.6177693452270678,-0.4617454216026249,-0.30572149797818193,-0.14969757435373898,0.006326349270703968,0.16235027289514692,0.31837419651958987,0.4743981201440328,0.6304220437684753,0.7864459673929183,0.9424698910173612,1.0984938146418042,1.2545177382662471,1.4105416618906896,1.5665655855151326,1.7225895091395755,1.8786134327640185]\n",
       "}\n",
       "}]\n",
       "};\n",
       "           var plotContainer = document.getElementById(\"0Fx9PW\");\n",
       "           window.letsPlotCall(function() {{\n",
       "               LetsPlot.buildPlotFromProcessedSpecs(plotSpec, -1, -1, plotContainer);\n",
       "           }});\n",
       "       })();    \n",
       "   </script>"
      ],
      "text/plain": [
       "<lets_plot.plot.core.PlotSpec at 0x7fdf185822d0>"
      ]
     },
     "execution_count": 2,
     "metadata": {},
     "output_type": "execute_result"
    }
   ],
   "source": [
    "n = 100\n",
    "np.random.seed(42)\n",
    "x = np.random.normal(size=n)\n",
    "group = np.random.choice(['a', 'b'], size=n)\n",
    "p = ggplot({'x': x, 'group': group}, aes(x='x')) + geom_histogram() \n",
    "p"
   ]
  },
  {
   "cell_type": "code",
   "execution_count": 3,
   "id": "canadian-gateway",
   "metadata": {},
   "outputs": [
    {
     "data": {
      "text/html": [
       "   <div id=\"Oe9HQS\"></div>\n",
       "   <script type=\"text/javascript\" data-lets-plot-script=\"plot\">\n",
       "       (function() {\n",
       "           var plotSpec={\n",
       "\"data\":{\n",
       "},\n",
       "\"mapping\":{\n",
       "\"x\":\"x\"\n",
       "},\n",
       "\"data_meta\":{\n",
       "},\n",
       "\"theme\":{\n",
       "\"name\":\"bw\"\n",
       "},\n",
       "\"ggtitle\":{\n",
       "\"text\":\"theme_bw()\"\n",
       "},\n",
       "\"kind\":\"plot\",\n",
       "\"scales\":[],\n",
       "\"layers\":[{\n",
       "\"geom\":\"histogram\",\n",
       "\"mapping\":{\n",
       "},\n",
       "\"data_meta\":{\n",
       "},\n",
       "\"data\":{\n",
       "\"..count..\":[1.0,0.0,0.0,0.0,2.0,1.0,2.0,1.0,4.0,2.0,4.0,1.0,4.0,6.0,10.0,8.0,6.0,4.0,7.0,12.0,3.0,2.0,5.0,5.0,2.0,0.0,3.0,4.0,0.0,1.0],\n",
       "\"x\":[-2.6460803523448253,-2.4900564287203824,-2.3340325050959394,-2.1780085814714965,-2.021984657847054,-1.8659607342226108,-1.709936810598168,-1.553912886973725,-1.3978889633492821,-1.2418650397248392,-1.0858411161003962,-0.9298171924759535,-0.7737932688515106,-0.6177693452270678,-0.4617454216026249,-0.30572149797818193,-0.14969757435373898,0.006326349270703968,0.16235027289514692,0.31837419651958987,0.4743981201440328,0.6304220437684753,0.7864459673929183,0.9424698910173612,1.0984938146418042,1.2545177382662471,1.4105416618906896,1.5665655855151326,1.7225895091395755,1.8786134327640185]\n",
       "}\n",
       "}]\n",
       "};\n",
       "           var plotContainer = document.getElementById(\"Oe9HQS\");\n",
       "           window.letsPlotCall(function() {{\n",
       "               LetsPlot.buildPlotFromProcessedSpecs(plotSpec, -1, -1, plotContainer);\n",
       "           }});\n",
       "       })();    \n",
       "   </script>"
      ],
      "text/plain": [
       "<lets_plot.plot.core.PlotSpec at 0x7fdec8174a10>"
      ]
     },
     "execution_count": 3,
     "metadata": {},
     "output_type": "execute_result"
    }
   ],
   "source": [
    "p + theme_bw() + ggtitle(\"theme_bw()\")"
   ]
  },
  {
   "cell_type": "code",
   "execution_count": 4,
   "id": "worst-hours",
   "metadata": {},
   "outputs": [
    {
     "data": {
      "text/html": [
       "   <div id=\"DChaqY\"></div>\n",
       "   <script type=\"text/javascript\" data-lets-plot-script=\"plot\">\n",
       "       (function() {\n",
       "           var plotSpec={\n",
       "\"data\":{\n",
       "},\n",
       "\"mapping\":{\n",
       "\"x\":\"x\"\n",
       "},\n",
       "\"data_meta\":{\n",
       "},\n",
       "\"facet\":{\n",
       "\"name\":\"wrap\",\n",
       "\"facets\":\"group\",\n",
       "\"ncol\":2,\n",
       "\"order\":1,\n",
       "\"dir\":\"h\"\n",
       "},\n",
       "\"theme\":{\n",
       "\"name\":\"bw\"\n",
       "},\n",
       "\"kind\":\"plot\",\n",
       "\"scales\":[],\n",
       "\"layers\":[{\n",
       "\"geom\":\"histogram\",\n",
       "\"mapping\":{\n",
       "},\n",
       "\"data_meta\":{\n",
       "},\n",
       "\"data\":{\n",
       "\"..count..\":[0.0,0.0,0.0,0.0,1.0,0.0,1.0,0.0,3.0,0.0,2.0,1.0,4.0,2.0,3.0,4.0,4.0,2.0,3.0,3.0,3.0,2.0,1.0,3.0,1.0,0.0,1.0,3.0,0.0,1.0,1.0,0.0,0.0,0.0,1.0,1.0,1.0,1.0,1.0,2.0,2.0,0.0,0.0,4.0,7.0,4.0,2.0,2.0,4.0,9.0,0.0,0.0,4.0,2.0,1.0,0.0,2.0,1.0,0.0,0.0],\n",
       "\"x\":[-2.6460803523448253,-2.4900564287203824,-2.3340325050959394,-2.1780085814714965,-2.021984657847054,-1.8659607342226108,-1.709936810598168,-1.553912886973725,-1.3978889633492821,-1.2418650397248392,-1.0858411161003962,-0.9298171924759535,-0.7737932688515106,-0.6177693452270678,-0.4617454216026249,-0.30572149797818193,-0.14969757435373898,0.006326349270703968,0.16235027289514692,0.31837419651958987,0.4743981201440328,0.6304220437684753,0.7864459673929183,0.9424698910173612,1.0984938146418042,1.2545177382662471,1.4105416618906896,1.5665655855151326,1.7225895091395755,1.8786134327640185,-2.6460803523448253,-2.4900564287203824,-2.3340325050959394,-2.1780085814714965,-2.021984657847054,-1.8659607342226108,-1.709936810598168,-1.553912886973725,-1.3978889633492821,-1.2418650397248392,-1.0858411161003962,-0.9298171924759535,-0.7737932688515106,-0.6177693452270678,-0.4617454216026249,-0.30572149797818193,-0.14969757435373898,0.006326349270703968,0.16235027289514692,0.31837419651958987,0.4743981201440328,0.6304220437684753,0.7864459673929183,0.9424698910173612,1.0984938146418042,1.2545177382662471,1.4105416618906896,1.5665655855151326,1.7225895091395755,1.8786134327640185],\n",
       "\"group\":[\"a\",\"a\",\"a\",\"a\",\"a\",\"a\",\"a\",\"a\",\"a\",\"a\",\"a\",\"a\",\"a\",\"a\",\"a\",\"a\",\"a\",\"a\",\"a\",\"a\",\"a\",\"a\",\"a\",\"a\",\"a\",\"a\",\"a\",\"a\",\"a\",\"a\",\"b\",\"b\",\"b\",\"b\",\"b\",\"b\",\"b\",\"b\",\"b\",\"b\",\"b\",\"b\",\"b\",\"b\",\"b\",\"b\",\"b\",\"b\",\"b\",\"b\",\"b\",\"b\",\"b\",\"b\",\"b\",\"b\",\"b\",\"b\",\"b\",\"b\"]\n",
       "}\n",
       "}]\n",
       "};\n",
       "           var plotContainer = document.getElementById(\"DChaqY\");\n",
       "           window.letsPlotCall(function() {{\n",
       "               LetsPlot.buildPlotFromProcessedSpecs(plotSpec, -1, -1, plotContainer);\n",
       "           }});\n",
       "       })();    \n",
       "   </script>"
      ],
      "text/plain": [
       "<lets_plot.plot.core.PlotSpec at 0x7fdee873c090>"
      ]
     },
     "execution_count": 4,
     "metadata": {},
     "output_type": "execute_result"
    }
   ],
   "source": [
    "p + facet_wrap(facets='group', ncol=2)+ theme_bw()"
   ]
  }
 ],
 "metadata": {
  "kernelspec": {
   "display_name": "Python 3 (ipykernel)",
   "language": "python",
   "name": "python3"
  },
  "language_info": {
   "codemirror_mode": {
    "name": "ipython",
    "version": 3
   },
   "file_extension": ".py",
   "mimetype": "text/x-python",
   "name": "python",
   "nbconvert_exporter": "python",
   "pygments_lexer": "ipython3",
   "version": "3.7.13"
  }
 },
 "nbformat": 4,
 "nbformat_minor": 5
}
