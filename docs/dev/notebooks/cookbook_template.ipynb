{
 "cells": [
  {
   "cell_type": "markdown",
   "id": "d0742d3b",
   "metadata": {},
   "source": [
    "*Notebook name: geom_point.ipynb*"
   ]
  },
  {
   "cell_type": "markdown",
   "id": "d36c3e3b",
   "metadata": {},
   "source": [
    "# Plotting points\n",
    "geom_point() allows to show markers with different on a scatter plot"
   ]
  },
  {
   "cell_type": "markdown",
   "id": "01b62e42",
   "metadata": {},
   "source": [
    "#### 1. Default presentation.\n",
    "\n",
    "Only required params are data and aesthetics *x* and *y*. Default presentation:"
   ]
  },
  {
   "cell_type": "markdown",
   "id": "42fa4ed1",
   "metadata": {},
   "source": [
    "#### 2. Options"
   ]
  },
  {
   "cell_type": "markdown",
   "id": "04fff4d6",
   "metadata": {},
   "source": [
    "##### 2.1. Shape."
   ]
  },
  {
   "cell_type": "markdown",
   "id": "226aebc1",
   "metadata": {},
   "source": [
    "#### 3. Usage with GeoDataFrame\n",
    "Can be used to draw markers using GeoDataFrame. Utilizes only POINT and MULTI_POINT, ignores other."
   ]
  }
 ],
 "metadata": {
  "kernelspec": {
   "display_name": "Python 3 (ipykernel)",
   "language": "python",
   "name": "python3"
  },
  "language_info": {
   "codemirror_mode": {
    "name": "ipython",
    "version": 3
   },
   "file_extension": ".py",
   "mimetype": "text/x-python",
   "name": "python",
   "nbconvert_exporter": "python",
   "pygments_lexer": "ipython3",
   "version": "3.8.13"
  }
 },
 "nbformat": 4,
 "nbformat_minor": 5
}
