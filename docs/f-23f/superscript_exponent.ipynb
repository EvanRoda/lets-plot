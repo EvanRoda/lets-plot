{
 "cells": [
  {
   "cell_type": "markdown",
   "id": "f7c40951-a35f-4921-b665-60b3c6de4d0c",
   "metadata": {},
   "source": [
    "# Exponent format in Lets-Plot\n",
    "The `exponent_format` parameter in the `theme(...)` function can be used to configure the format of the exponent.  \n",
    "Available values:\n",
    "- `'e'` for E notation, for example, 1.23e+3, which is the default format.\n",
    "- `'pow'` for superscript power notation.\n",
    "\n",
    "The exponent format is automatically applied to each value and formatted in scientific notation, whether the format is user-defined or selected by lets-plot based on the data. This format affects every part of a plot, including geoms, scales, labels, and tooltips.\n",
    "\n",
    "#### Note:\n",
    "*The `CairoSVG` library does not fully support superscript, and exporting with the `ggsave()` function to PNG/PDF may result in unexpected outcomes.*"
   ]
  },
  {
   "cell_type": "code",
   "execution_count": 1,
   "id": "7e5807d6-124c-461b-a9af-8f2cd88e0467",
   "metadata": {},
   "outputs": [],
   "source": [
    "from lets_plot import *\n",
    "import numpy as np"
   ]
  },
  {
   "cell_type": "code",
   "execution_count": 2,
   "id": "748b46fd-14e5-4636-a591-00c51658e83b",
   "metadata": {},
   "outputs": [
    {
     "data": {
      "text/html": [
       "\n",
       "            <div id=\"C5veUY\"></div>\n",
       "            <script type=\"text/javascript\" data-lets-plot-script=\"library\">\n",
       "                if(!window.letsPlotCallQueue) {\n",
       "                    window.letsPlotCallQueue = [];\n",
       "                }; \n",
       "                window.letsPlotCall = function(f) {\n",
       "                    window.letsPlotCallQueue.push(f);\n",
       "                };\n",
       "                (function() {\n",
       "                    var script = document.createElement(\"script\");\n",
       "                    script.type = \"text/javascript\";\n",
       "                    script.src = \"https://cdn.jsdelivr.net/gh/JetBrains/lets-plot@v4.2.0rc1/js-package/distr/lets-plot.min.js\";\n",
       "                    script.onload = function() {\n",
       "                        window.letsPlotCall = function(f) {f();};\n",
       "                        window.letsPlotCallQueue.forEach(function(f) {f();});\n",
       "                        window.letsPlotCallQueue = [];\n",
       "                        \n",
       "                    };\n",
       "                    script.onerror = function(event) {\n",
       "                        window.letsPlotCall = function(f) {};    // noop\n",
       "                        window.letsPlotCallQueue = [];\n",
       "                        var div = document.createElement(\"div\");\n",
       "                        div.style.color = 'darkred';\n",
       "                        div.textContent = 'Error loading Lets-Plot JS';\n",
       "                        document.getElementById(\"C5veUY\").appendChild(div);\n",
       "                    };\n",
       "                    var e = document.getElementById(\"C5veUY\");\n",
       "                    e.appendChild(script);\n",
       "                })()\n",
       "            </script>\n",
       "            "
      ]
     },
     "metadata": {},
     "output_type": "display_data"
    }
   ],
   "source": [
    "LetsPlot.setup_html()"
   ]
  },
  {
   "cell_type": "markdown",
   "id": "cbe482a2-a887-4fdf-be6c-3b6a8cab14f8",
   "metadata": {},
   "source": [
    "#### Set `exponent_format='pow'` for all plots in the notebook\n",
    "Each plot still can be cofigured individually: `p + theme(exponent_format='e'))`"
   ]
  },
  {
   "cell_type": "code",
   "execution_count": 3,
   "id": "2eb75592-2610-438c-9d8a-d1abd78faea8",
   "metadata": {},
   "outputs": [],
   "source": [
    "LetsPlot.set_theme(theme(exponent_format='pow'))"
   ]
  },
  {
   "cell_type": "code",
   "execution_count": 4,
   "id": "f119b573-4516-411b-9dbe-fbbf7a4a0c74",
   "metadata": {},
   "outputs": [],
   "source": [
    "n = 10\n",
    "data = {\n",
    "    'x': list(range(n)),\n",
    "    'y': [(i + 1 + 0.025 * i) * 10**(-5) for i in range(n)],\n",
    "    'c': [i * 10**(10) for i in range(n)]\n",
    "}\n",
    "\n",
    "p = ggplot(data, mapping=aes(x='x', y='y', fill='c')) + geom_bar(stat='identity')"
   ]
  },
  {
   "cell_type": "markdown",
   "id": "ce1284d2-6d92-4540-b148-fcb411561d21",
   "metadata": {},
   "source": [
    "#### Default plot with `exponent_format='pow'`"
   ]
  },
  {
   "cell_type": "code",
   "execution_count": 5,
   "id": "5bc8222f-2d2e-4ea2-9305-f03c65949b73",
   "metadata": {},
   "outputs": [
    {
     "data": {
      "text/html": [
       "   <div id=\"nLEPes\"></div>\n",
       "   <script type=\"text/javascript\" data-lets-plot-script=\"plot\">\n",
       "       (function() {\n",
       "           var plotSpec={\n",
       "\"data\":{\n",
       "\"x\":[0.0,1.0,2.0,3.0,4.0,5.0,6.0,7.0,8.0,9.0],\n",
       "\"y\":[1.0E-5,2.025E-5,3.05E-5,4.075000000000001E-5,5.1E-5,6.125000000000001E-5,7.15E-5,8.175000000000001E-5,9.2E-5,1.0225E-4],\n",
       "\"c\":[0.0,1.0E10,2.0E10,3.0E10,4.0E10,5.0E10,6.0E10,7.0E10,8.0E10,9.0E10]\n",
       "},\n",
       "\"mapping\":{\n",
       "\"x\":\"x\",\n",
       "\"y\":\"y\",\n",
       "\"fill\":\"c\"\n",
       "},\n",
       "\"data_meta\":{\n",
       "},\n",
       "\"theme\":{\n",
       "\"exponent_format\":\"pow\"\n",
       "},\n",
       "\"kind\":\"plot\",\n",
       "\"scales\":[],\n",
       "\"layers\":[{\n",
       "\"geom\":\"bar\",\n",
       "\"stat\":\"identity\",\n",
       "\"mapping\":{\n",
       "},\n",
       "\"data_meta\":{\n",
       "},\n",
       "\"data\":{\n",
       "}\n",
       "}],\n",
       "\"metainfo_list\":[]\n",
       "};\n",
       "           var plotContainer = document.getElementById(\"nLEPes\");\n",
       "           window.letsPlotCall(function() {{\n",
       "               LetsPlot.buildPlotFromProcessedSpecs(plotSpec, -1, -1, plotContainer);\n",
       "           }});\n",
       "       })();    \n",
       "   </script>"
      ],
      "text/plain": [
       "<lets_plot.plot.core.PlotSpec at 0x7feaa8ea04f0>"
      ]
     },
     "execution_count": 5,
     "metadata": {},
     "output_type": "execute_result"
    }
   ],
   "source": [
    "p"
   ]
  },
  {
   "cell_type": "markdown",
   "id": "a1a3148b-52ce-44ae-9885-81ebc994f013",
   "metadata": {
    "tags": []
   },
   "source": [
    "#### Superscrpit exponent in `geom_text()` and `geom_label()`\n",
    "Note that only numbers in scientific notation are rendered with a superscript exponent. By default these geoms simply convert value to a string, resulting in a number in standard notation:"
   ]
  },
  {
   "cell_type": "code",
   "execution_count": 6,
   "id": "78b1a24c-7240-4fd4-aaf9-609fb8cc7b59",
   "metadata": {
    "tags": []
   },
   "outputs": [
    {
     "data": {
      "text/html": [
       "   <div id=\"fo9I76\"></div>\n",
       "   <script type=\"text/javascript\" data-lets-plot-script=\"plot\">\n",
       "       (function() {\n",
       "           var plotSpec={\n",
       "\"data\":{\n",
       "\"x\":[0.0,1.0,2.0,3.0,4.0,5.0,6.0,7.0,8.0,9.0],\n",
       "\"y\":[1.0E-5,2.025E-5,3.05E-5,4.075000000000001E-5,5.1E-5,6.125000000000001E-5,7.15E-5,8.175000000000001E-5,9.2E-5,1.0225E-4],\n",
       "\"c\":[0.0,1.0E10,2.0E10,3.0E10,4.0E10,5.0E10,6.0E10,7.0E10,8.0E10,9.0E10]\n",
       "},\n",
       "\"mapping\":{\n",
       "\"x\":\"x\",\n",
       "\"y\":\"y\",\n",
       "\"fill\":\"c\"\n",
       "},\n",
       "\"data_meta\":{\n",
       "},\n",
       "\"theme\":{\n",
       "\"exponent_format\":\"pow\"\n",
       "},\n",
       "\"kind\":\"plot\",\n",
       "\"scales\":[],\n",
       "\"layers\":[{\n",
       "\"geom\":\"bar\",\n",
       "\"stat\":\"identity\",\n",
       "\"mapping\":{\n",
       "},\n",
       "\"data_meta\":{\n",
       "},\n",
       "\"data\":{\n",
       "}\n",
       "},{\n",
       "\"geom\":\"label\",\n",
       "\"mapping\":{\n",
       "\"label\":\"y\"\n",
       "},\n",
       "\"data_meta\":{\n",
       "},\n",
       "\"alpha\":0.8,\n",
       "\"fill\":\"white\",\n",
       "\"data\":{\n",
       "}\n",
       "}],\n",
       "\"metainfo_list\":[]\n",
       "};\n",
       "           var plotContainer = document.getElementById(\"fo9I76\");\n",
       "           window.letsPlotCall(function() {{\n",
       "               LetsPlot.buildPlotFromProcessedSpecs(plotSpec, -1, -1, plotContainer);\n",
       "           }});\n",
       "       })();    \n",
       "   </script>"
      ],
      "text/plain": [
       "<lets_plot.plot.core.PlotSpec at 0x7feaa8ea0640>"
      ]
     },
     "execution_count": 6,
     "metadata": {},
     "output_type": "execute_result"
    }
   ],
   "source": [
    "p + geom_label(aes(label='y'), alpha=0.8, fill='white') "
   ]
  },
  {
   "cell_type": "markdown",
   "id": "c8ea24af-4d3f-4227-af45-99ca7dd47eeb",
   "metadata": {},
   "source": [
    "To show superscript exponents for numbers in geoms, explicitly set the appropriate format using the `label_format` parameter. Also, use the tilde flag (`~`) to shorten non-significant zeros:"
   ]
  },
  {
   "cell_type": "code",
   "execution_count": 7,
   "id": "26740a39-a269-4f65-84e8-4f265e79ae4f",
   "metadata": {
    "tags": []
   },
   "outputs": [
    {
     "data": {
      "text/html": [
       "   <div id=\"RRlsek\"></div>\n",
       "   <script type=\"text/javascript\" data-lets-plot-script=\"plot\">\n",
       "       (function() {\n",
       "           var plotSpec={\n",
       "\"data\":{\n",
       "\"x\":[0.0,1.0,2.0,3.0,4.0,5.0,6.0,7.0,8.0,9.0],\n",
       "\"y\":[1.0E-5,2.025E-5,3.05E-5,4.075000000000001E-5,5.1E-5,6.125000000000001E-5,7.15E-5,8.175000000000001E-5,9.2E-5,1.0225E-4],\n",
       "\"c\":[0.0,1.0E10,2.0E10,3.0E10,4.0E10,5.0E10,6.0E10,7.0E10,8.0E10,9.0E10]\n",
       "},\n",
       "\"mapping\":{\n",
       "\"x\":\"x\",\n",
       "\"y\":\"y\",\n",
       "\"fill\":\"c\"\n",
       "},\n",
       "\"data_meta\":{\n",
       "},\n",
       "\"theme\":{\n",
       "\"exponent_format\":\"pow\"\n",
       "},\n",
       "\"kind\":\"plot\",\n",
       "\"scales\":[],\n",
       "\"layers\":[{\n",
       "\"geom\":\"bar\",\n",
       "\"stat\":\"identity\",\n",
       "\"mapping\":{\n",
       "},\n",
       "\"data_meta\":{\n",
       "},\n",
       "\"data\":{\n",
       "}\n",
       "},{\n",
       "\"geom\":\"label\",\n",
       "\"mapping\":{\n",
       "\"label\":\"y\"\n",
       "},\n",
       "\"data_meta\":{\n",
       "},\n",
       "\"label_format\":\".2~e\",\n",
       "\"alpha\":0.8,\n",
       "\"fill\":\"white\",\n",
       "\"data\":{\n",
       "}\n",
       "}],\n",
       "\"metainfo_list\":[]\n",
       "};\n",
       "           var plotContainer = document.getElementById(\"RRlsek\");\n",
       "           window.letsPlotCall(function() {{\n",
       "               LetsPlot.buildPlotFromProcessedSpecs(plotSpec, -1, -1, plotContainer);\n",
       "           }});\n",
       "       })();    \n",
       "   </script>"
      ],
      "text/plain": [
       "<lets_plot.plot.core.PlotSpec at 0x7feaa900da30>"
      ]
     },
     "execution_count": 7,
     "metadata": {},
     "output_type": "execute_result"
    }
   ],
   "source": [
    "p + geom_label(aes(label='y'), alpha=0.8, fill='white', label_format='.2~e') "
   ]
  }
 ],
 "metadata": {
  "kernelspec": {
   "display_name": "Python 3 (ipykernel)",
   "language": "python",
   "name": "python3"
  },
  "language_info": {
   "codemirror_mode": {
    "name": "ipython",
    "version": 3
   },
   "file_extension": ".py",
   "mimetype": "text/x-python",
   "name": "python",
   "nbconvert_exporter": "python",
   "pygments_lexer": "ipython3",
   "version": "3.8.18"
  }
 },
 "nbformat": 4,
 "nbformat_minor": 5
}
